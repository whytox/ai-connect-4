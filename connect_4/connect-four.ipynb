{
 "cells": [
  {
   "cell_type": "markdown",
   "metadata": {},
   "source": [
    "Copyright **`(c)`** 2021 Giovanni Squillero `<squillero@polito.it>`  \n",
    "[`https://github.com/squillero/computational-intelligence`](https://github.com/squillero/computational-intelligence)  \n",
    "Free for personal or classroom use; see 'LICENCE.md' for details."
   ]
  },
  {
   "cell_type": "code",
   "execution_count": 1,
   "metadata": {},
   "outputs": [],
   "source": [
    "import numpy as np\n",
    "import random\n",
    "from itertools import product\n",
    "from collections import Counter\n",
    "import logging\n",
    "\n",
    "logging.basicConfig(\n",
    "    format=\"[%(asctime)s] %(levelname)s: %(message)s\",\n",
    "    datefmt=\"%H:%M:%S\",\n",
    "    level=logging.INFO,\n",
    ")"
   ]
  },
  {
   "cell_type": "code",
   "execution_count": 2,
   "metadata": {},
   "outputs": [],
   "source": [
    "NUM_COLUMNS = 7\n",
    "COLUMN_HEIGHT = 6\n",
    "FOUR = 4\n",
    "\n",
    "# Board can be initiatilized with `board = np.zeros((NUM_COLUMNS, COLUMN_HEIGHT), dtype=np.byte)`\n",
    "# Notez Bien: Connect 4 \"columns\" are actually NumPy \"rows\""
   ]
  },
  {
   "cell_type": "code",
   "execution_count": 4,
   "metadata": {},
   "outputs": [],
   "source": [
    "def valid_moves(board):\n",
    "    \"\"\"Returns columns where a disc may be played\"\"\"\n",
    "    return [n for n in range(NUM_COLUMNS) if board[n, COLUMN_HEIGHT - 1] == 0]\n",
    "\n",
    "\n",
    "def play(board, column, player):\n",
    "    \"\"\"Updates `board` as `player` drops a disc in `column`\"\"\"\n",
    "    (index,) = next((i for i, v in np.ndenumerate(board[column]) if v == 0))\n",
    "    board[column, index] = player\n",
    "\n",
    "\n",
    "def take_back(board, column):\n",
    "    \"\"\"Updates `board` removing top disc from `column`\"\"\"\n",
    "    (index,) = [i for i, v in np.ndenumerate(board[column]) if v != 0][-1]\n",
    "    board[column, index] = 0\n",
    "\n",
    "\n",
    "def four_in_a_row(board, player):\n",
    "    \"\"\"Checks if `player` has a 4-piece line\"\"\"\n",
    "    return (\n",
    "        any(\n",
    "            all(board[c, r] == player)\n",
    "            for c in range(NUM_COLUMNS)\n",
    "            for r in (list(range(n, n + FOUR)) for n in range(COLUMN_HEIGHT - FOUR + 1))\n",
    "        )\n",
    "        or any(\n",
    "            all(board[c, r] == player)\n",
    "            for r in range(COLUMN_HEIGHT)\n",
    "            for c in (list(range(n, n + FOUR)) for n in range(NUM_COLUMNS - FOUR + 1))\n",
    "        )\n",
    "        or any(\n",
    "            np.all(board[diag] == player)\n",
    "            for diag in (\n",
    "                (range(ro, ro + FOUR), range(co, co + FOUR))\n",
    "                for ro in range(0, NUM_COLUMNS - FOUR + 1)\n",
    "                for co in range(0, COLUMN_HEIGHT - FOUR + 1)\n",
    "            )\n",
    "        )\n",
    "        or any(\n",
    "            np.all(board[diag] == player)\n",
    "            for diag in (\n",
    "                (range(ro, ro + FOUR), range(co + FOUR - 1, co - 1, -1))\n",
    "                for ro in range(0, NUM_COLUMNS - FOUR + 1)\n",
    "                for co in range(0, COLUMN_HEIGHT - FOUR + 1)\n",
    "            )\n",
    "        )\n",
    "    )\n",
    "\n",
    "def eval_terminal(board):\n",
    "    if four_in_a_row(board, 1):\n",
    "        return 1\n",
    "    if four_in_a_row(board, -1):\n",
    "        return -1\n",
    "    return 0"
   ]
  },
  {
   "cell_type": "code",
   "execution_count": 5,
   "metadata": {},
   "outputs": [],
   "source": [
    "def current_player(board):\n",
    "    if (board != 0).sum() % 2 == 0:\n",
    "        return 1\n",
    "    return -1"
   ]
  },
  {
   "cell_type": "code",
   "execution_count": null,
   "metadata": {},
   "outputs": [],
   "source": [
    "def _mc(board, player):\n",
    "    p = -player\n",
    "    while valid_moves(board):\n",
    "        p = -p\n",
    "        c = np.random.choice(valid_moves(board))\n",
    "        play(board, c, p)\n",
    "        if four_in_a_row(board, p):\n",
    "            return p\n",
    "    return 0\n",
    "\n",
    "\n",
    "def montecarlo(board, player):\n",
    "    montecarlo_samples = 1000\n",
    "    cnt = Counter(_mc(np.copy(board), player) for _ in range(montecarlo_samples))\n",
    "    return (cnt[1] - cnt[-1]) / montecarlo_samples\n",
    "\n",
    "\n",
    "def eval_board(board, player):\n",
    "    if four_in_a_row(board, 1):\n",
    "        # Alice won\n",
    "        return 1\n",
    "    elif four_in_a_row(board, -1):\n",
    "        # Bob won\n",
    "        return -1\n",
    "    else:\n",
    "        # Not terminal, let's simulate...\n",
    "        return montecarlo(board, player)"
   ]
  },
  {
   "cell_type": "code",
   "execution_count": 68,
   "metadata": {},
   "outputs": [],
   "source": [
    "def minmax(board, max_depth=1):\n",
    "    plyer = current_player(board)\n",
    "    if max_depth == 0:\n",
    "        return None, eval_board(board, plyer)\n",
    "    max_depth = max_depth - 1 \n",
    "    branches = list()\n",
    "    for ply in valid_moves(board):\n",
    "        play(board, ply, plyer)\n",
    "        val = eval_board(np.copy(board), plyer)\n",
    "        branches.append((ply, -val))\n",
    "        take_back(board, ply)\n",
    "    print(branches)\n",
    "    return max(branches, key=lambda k: k[1])"
   ]
  },
  {
   "cell_type": "code",
   "execution_count": 11,
   "metadata": {},
   "outputs": [
    {
     "name": "stdout",
     "output_type": "stream",
     "text": [
      "[[0 0 0 0 0 0]\n",
      " [0 0 0 0 0 0]\n",
      " [0 0 0 0 0 0]\n",
      " [0 0 0 0 0 0]\n",
      " [0 0 0 0 0 0]\n",
      " [0 0 0 0 0 0]\n",
      " [0 0 0 0 0 0]]\n",
      "[[ 1  1 -1  0  0  0]\n",
      " [-1  1 -1 -1  1  0]\n",
      " [ 1 -1 -1  1 -1  1]\n",
      " [ 1  1  1 -1  0  0]\n",
      " [-1 -1 -1  0  0  0]\n",
      " [ 1  1 -1 -1  0  0]\n",
      " [-1  1  1  0  0  0]]\n",
      "move to 1\n"
     ]
    }
   ],
   "source": [
    "board = np.zeros((NUM_COLUMNS, COLUMN_HEIGHT), dtype=np.byte)\n",
    "print(board)\n",
    "p = 1\n",
    "c = 0\n",
    "for _ in range(NUM_COLUMNS*(COLUMN_HEIGHT-2)):\n",
    "    c = random.choice(valid_moves(board))\n",
    "    play(board, c, p)\n",
    "    if four_in_a_row(board, p):\n",
    "        print(p, \"has 4 in row\")\n",
    "        break\n",
    "    p = -p\n",
    "    \n",
    "print(board)\n",
    "print(\"move to\", p)"
   ]
  },
  {
   "cell_type": "code",
   "execution_count": 72,
   "metadata": {},
   "outputs": [
    {
     "data": {
      "text/plain": [
       "array([[ 1,  1, -1,  0,  0,  0],\n",
       "       [-1,  1, -1, -1,  1,  0],\n",
       "       [ 1, -1, -1,  1, -1,  1],\n",
       "       [ 1,  1,  1, -1,  0,  0],\n",
       "       [-1, -1, -1,  0,  0,  0],\n",
       "       [ 1,  1, -1, -1,  0,  0],\n",
       "       [-1,  1,  1,  0,  0,  0]], dtype=int8)"
      ]
     },
     "execution_count": 72,
     "metadata": {},
     "output_type": "execute_result"
    }
   ],
   "source": [
    "board"
   ]
  },
  {
   "cell_type": "code",
   "execution_count": 73,
   "metadata": {},
   "outputs": [
    {
     "name": "stdout",
     "output_type": "stream",
     "text": [
      "[[ 1  1 -1  0  0  0]\n",
      " [-1  1 -1 -1  1  0]\n",
      " [ 1 -1 -1  1 -1  1]\n",
      " [ 1  1  1 -1  0  0]\n",
      " [-1 -1 -1  0  0  0]\n",
      " [ 1  1 -1 -1  0  0]\n",
      " [-1  1  1  0  0  0]]\n",
      "[(0, 0.6276), (1, 0.4466), (3, 0.7748), (4, 0.4314), (5, 0.636), (6, 0.2562)]\n",
      "1 : 3 0.7748\n"
     ]
    }
   ],
   "source": [
    "print(board)\n",
    "best, val = minmax(board)\n",
    "p = current_player(board)\n",
    "print(p, ':', best, val)"
   ]
  },
  {
   "cell_type": "code",
   "execution_count": 71,
   "metadata": {},
   "outputs": [],
   "source": [
    "test_cases = [\n",
    "    np.array([[ 1,  1, -1,  0,  0,  0],\n",
    "       [-1,  1, -1, -1,  1,  0],\n",
    "       [ 1, -1, -1,  1, -1,  1],\n",
    "       [ 1,  1,  1, -1,  0,  0],\n",
    "       [-1, -1, -1,  0,  0,  0],\n",
    "       [ 1,  1, -1, -1,  0,  0],\n",
    "       [-1,  1,  1,  0,  0,  0]], dtype=np.int8)]\n",
    "\n",
    "board = test_cases[0]"
   ]
  }
 ],
 "metadata": {
  "interpreter": {
   "hash": "fbff9bfab3ee0df4124016b4e010029cf2ec5864ce5e3c4aa09796cc364af95f"
  },
  "kernelspec": {
   "display_name": "Python 3.9.7 64-bit ('base': conda)",
   "language": "python",
   "name": "python3"
  },
  "language_info": {
   "codemirror_mode": {
    "name": "ipython",
    "version": 3
   },
   "file_extension": ".py",
   "mimetype": "text/x-python",
   "name": "python",
   "nbconvert_exporter": "python",
   "pygments_lexer": "ipython3",
   "version": "3.9.1"
  },
  "orig_nbformat": 4
 },
 "nbformat": 4,
 "nbformat_minor": 2
}
